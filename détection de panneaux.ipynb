{
 "cells": [
  {
   "cell_type": "markdown",
   "metadata": {},
   "source": [
    "# Détection et reconnaissance des panneaux de signalisation"
   ]
  },
  {
   "cell_type": "markdown",
   "metadata": {},
   "source": [
    "Dans le monde de l'IA des grandes entreprises comme Tesla, Uber, Google, Mercedes-Benz, etc. travaillent sur des véhicules autonomes et des voitures autonomes. Pour atteindre la précision de cette technologie, les véhicules doivent être capables d'interpréter les panneaux de signalisation et de prendre des décisions en conséquence. Votre objectif est de construire un modèle qui permet de réaliser cette tâche.\n",
    "\n",
    "Une interface graphique est demandée:\n",
    "\n",
    "    Qui permet de détecter dans une image les panneaux de signalisation et les reconnaitre (Afficher le label en Français).\n",
    "    Qui permet de détecter tous les panneaux dans une vidéo les reconnaitre et les afficher avec leurs labels.\n"
   ]
  },
  {
   "cell_type": "markdown",
   "metadata": {},
   "source": [
    "# Modalités d'évaluation\n",
    "\n",
    "    Un rapport sur le projet réalisé qui explique les différentes étapes du code\n",
    "\n",
    "    Description des données\n",
    "\n",
    "    Présentation de l'architecture utilisée\n",
    "\n",
    "    Conclusion (avantages et inconvénients, concurrents, recommandations…)\n",
    "\n",
    "    Revue de code avec le formateur.\n",
    "\n"
   ]
  },
  {
   "cell_type": "markdown",
   "metadata": {},
   "source": [
    "# Étape 1: Explorez l'ensemble de données\n"
   ]
  },
  {
   "cell_type": "markdown",
   "metadata": {},
   "source": [
    "Créez un fichier de script Python et nommez-le traffic_signs.py dans le dossier du projet.\n",
    "\n",
    "Notre approche pour créer ce modèle de classification des panneaux de signalisation est présentée en quatre étapes:\n",
    "\n",
    "Explorez l'ensemble de données\n",
    "Construire un modèle CNN\n",
    "Former et valider le modèle\n",
    "Tester le modèle avec un jeu de données de test"
   ]
  },
  {
   "cell_type": "markdown",
   "metadata": {},
   "source": [
    "Notre dossier «train» contient 43 dossiers représentant chacun une classe différente. La plage du dossier va de 0 à 42. Avec l'aide du module OS, nous parcourons toutes les classes et ajoutons des images et leurs étiquettes respectives dans la liste des données et des étiquettes.\n",
    "\n",
    "La bibliothèque PIL est utilisée pour ouvrir le contenu de l'image dans un tableau."
   ]
  },
  {
   "cell_type": "code",
   "execution_count": 1,
   "metadata": {},
   "outputs": [],
   "source": [
    "# Importation des bibliothéques\n",
    "import numpy as np \n",
    "import pandas as pd \n",
    "import matplotlib.pyplot as plt\n",
    "import cv2\n",
    "import tensorflow as tf\n",
    "from PIL import Image\n",
    "import os\n",
    "from sklearn.model_selection import train_test_split\n",
    "from keras.utils import to_categorical\n",
    "from keras.models import Sequential, load_model\n",
    "from keras.layers import Conv2D, MaxPool2D, Dense, Flatten, Dropout"
   ]
  },
  {
   "cell_type": "code",
   "execution_count": 2,
   "metadata": {},
   "outputs": [],
   "source": [
    "# Stockage des labels et de données  dans une liste \n",
    "data = []\n",
    "labels = []\n",
    "classes = 43\n",
    "# getcwd() retourne le dossier de travail courant\n",
    "cur_path = os.getcwd()"
   ]
  },
  {
   "cell_type": "code",
   "execution_count": 3,
   "metadata": {},
   "outputs": [
    {
     "name": "stdout",
     "output_type": "stream",
     "text": [
      "Error loading image\n"
     ]
    }
   ],
   "source": [
    "# Récupération des données et des labels\n",
    "for i in range(classes):\n",
    "    path = os.path.join(cur_path,'train',str(i))\n",
    "    images = os.listdir(path)\n",
    "    for a in images:\n",
    "        try:\n",
    "            image = Image.open(path + '\\\\'+ a)\n",
    "            image = image.resize((30,30))\n",
    "            image = np.array(image)\n",
    "            data.append(image)\n",
    "            labels.append(i)\n",
    "        except:\n",
    "            print(\"Error loading image\")"
   ]
  },
  {
   "cell_type": "code",
   "execution_count": 4,
   "metadata": {},
   "outputs": [
    {
     "name": "stdout",
     "output_type": "stream",
     "text": [
      "(50012, 30, 30, 3) (50012,)\n"
     ]
    }
   ],
   "source": [
    "# Conversion des listes en tableau np.array\n",
    "data = np.array(data)\n",
    "labels = np.array(labels)\n",
    "print(data.shape, labels.shape)"
   ]
  },
  {
   "cell_type": "code",
   "execution_count": 5,
   "metadata": {},
   "outputs": [
    {
     "name": "stdout",
     "output_type": "stream",
     "text": [
      "(40009, 30, 30, 3) (10003, 30, 30, 3) (40009,) (10003,)\n"
     ]
    }
   ],
   "source": [
    "#Fractionnement des données en jeu de test et de données\n",
    "X_train, X_test, y_train, y_test = train_test_split(data, labels, test_size=0.2, random_state=42)\n",
    "print(X_train.shape, X_test.shape, y_train.shape, y_test.shape)"
   ]
  },
  {
   "cell_type": "code",
   "execution_count": 6,
   "metadata": {},
   "outputs": [],
   "source": [
    "# Encodage des labels\n",
    "y_train = to_categorical(y_train, 43)\n",
    "y_test = to_categorical(y_test, 43)"
   ]
  },
  {
   "cell_type": "code",
   "execution_count": 7,
   "metadata": {},
   "outputs": [],
   "source": [
    "# Construction du modèle\n",
    "model = Sequential()\n",
    "model.add(Conv2D(filters=32, kernel_size=(5,5), activation='relu', input_shape=X_train.shape[1:]))\n",
    "model.add(Conv2D(filters=32, kernel_size=(5,5), activation='relu'))\n",
    "model.add(MaxPool2D(pool_size=(2, 2)))\n",
    "model.add(Dropout(rate=0.25))\n",
    "model.add(Conv2D(filters=64, kernel_size=(3, 3), activation='relu'))\n",
    "model.add(Conv2D(filters=64, kernel_size=(3, 3), activation='relu'))\n",
    "model.add(MaxPool2D(pool_size=(2, 2)))\n",
    "model.add(Dropout(rate=0.25))\n",
    "model.add(Flatten())\n",
    "model.add(Dense(256, activation='relu'))\n",
    "model.add(Dropout(rate=0.5))\n",
    "model.add(Dense(43, activation='softmax'))\n"
   ]
  },
  {
   "cell_type": "code",
   "execution_count": null,
   "metadata": {},
   "outputs": [
    {
     "name": "stdout",
     "output_type": "stream",
     "text": [
      "Epoch 1/15\n",
      "1251/1251 [==============================] - 505s 398ms/step - loss: 2.9320 - accuracy: 0.4051 - val_loss: 0.4332 - val_accuracy: 0.8920\n",
      "Epoch 2/15\n",
      "1251/1251 [==============================] - 8504s 7s/step - loss: 0.6961 - accuracy: 0.7994 - val_loss: 0.2137 - val_accuracy: 0.9423\n",
      "Epoch 3/15\n",
      "1239/1251 [============================>.] - ETA: 18s - loss: 0.4878 - accuracy: 0.8565"
     ]
    }
   ],
   "source": [
    "#Compilation du modèle\n",
    "model.compile(loss='categorical_crossentropy', optimizer='adam', metrics=['accuracy'])\n",
    "epochs = 15\n",
    "history = model.fit(X_train, y_train, batch_size=32, epochs=epochs, validation_data=(X_test, y_test))\n",
    "model.save(\"my_model.h5\")\n"
   ]
  },
  {
   "cell_type": "code",
   "execution_count": null,
   "metadata": {},
   "outputs": [],
   "source": [
    "# Affichage de  graphiques pour plus de précision\n",
    "plt.figure(0)\n",
    "plt.plot(history.history['accuracy'], label='training accuracy')\n",
    "plt.plot(history.history['val_accuracy'], label='val accuracy')\n",
    "plt.title('Accuracy')\n",
    "plt.xlabel('epochs')\n",
    "plt.ylabel('accuracy')\n",
    "plt.legend()\n",
    "plt.show()\n",
    "plt.figure(1)\n",
    "plt.plot(history.history['loss'], label='training loss')\n",
    "plt.plot(history.history['val_loss'], label='val loss')\n",
    "plt.title('Loss')\n",
    "plt.xlabel('epochs')\n",
    "plt.ylabel('loss')\n",
    "plt.legend()\n",
    "plt.show()"
   ]
  },
  {
   "cell_type": "code",
   "execution_count": null,
   "metadata": {},
   "outputs": [],
   "source": [
    "# Test de la précision sur l'ensemble de données de test\n",
    "from sklearn.metrics import accuracy_score\n",
    "y_test = pd.read_csv('Test.csv')\n",
    "labels = y_test[\"ClassId\"].values\n",
    "imgs = y_test[\"Path\"].values\n",
    "data=[]"
   ]
  },
  {
   "cell_type": "code",
   "execution_count": null,
   "metadata": {},
   "outputs": [],
   "source": [
    "# Ouverture des images(données) et redimensionnement\n",
    "for img in imgs:\n",
    "    image = Image.open(img)\n",
    "    image = image.resize((30,30))\n",
    "    data.append(np.array(image))\n",
    "X_test=np.array(data)\n",
    "pred = model.predict_classes(X_test)"
   ]
  },
  {
   "cell_type": "code",
   "execution_count": null,
   "metadata": {},
   "outputs": [],
   "source": [
    "# Précision avec les données de test\n",
    "from sklearn.metrics import accuracy_score\n",
    "print(accuracy_score(labels, pred))\n"
   ]
  },
  {
   "cell_type": "code",
   "execution_count": null,
   "metadata": {},
   "outputs": [],
   "source": [
    "# Sauvegarde du modèle\n",
    "model.save('traffic_classifier.h5')"
   ]
  },
  {
   "cell_type": "code",
   "execution_count": null,
   "metadata": {},
   "outputs": [],
   "source": [
    "# Précision du modèle à 94 % \n",
    "import tkinter as tk\n",
    "from tkinter import filedialog\n",
    "from tkinter import *\n",
    "from PIL import ImageTk, Image\n",
    "import numpy\n",
    "# Chargement du modèle\n",
    "from keras.models import load_model\n",
    "model = load_model('traffic_classifier.h5')\n"
   ]
  },
  {
   "cell_type": "code",
   "execution_count": null,
   "metadata": {},
   "outputs": [],
   "source": [
    "# Dictionnaire de tous les labels\n",
    "classes = { 1:'Limite de vitesse (20km/h)',\n",
    "            2:'Limite de vitesse (30km/h)', \n",
    "            3:'Limite de vitesse (50km/h)', \n",
    "            4:'Limite de vitesset (60km/h)', \n",
    "            5:'Limite de vitesse (70km/h)', \n",
    "            6:'Limite de vitesse (80km/h)', \n",
    "            7:'Fin de limite de vistesse (80km/h)', \n",
    "            8:'Limite de vitesse (100km/h)', \n",
    "            9:'Limite de vitesse (120km/h)', \n",
    "            10:'Dépassement interdit', \n",
    "            11:'Dépassement interdit pour les plus de 3,5 tonnes', \n",
    "            12:'Priorité à droite', \n",
    "            13:'Route prioritaire', \n",
    "            14:'Cédez le passage', \n",
    "            15:'Stop', \n",
    "            16:'Véhicule interdit', \n",
    "            17:'Interdit au plus de 3 tonnes', \n",
    "            18:'No entry', \n",
    "            19:'Danger', \n",
    "            20:'Virage à gauche dangereux', \n",
    "            21:'Virage à droite dangeureux', \n",
    "            22:'Virages', \n",
    "            23:\"Dos d'âne\", \n",
    "            24:'Route glissante', \n",
    "            25:'Route serrée à droite', \n",
    "            26:'Route en travaux', \n",
    "            27:'Feux tricolore', \n",
    "            28:'Passage piétons', \n",
    "            29:\"Passage d'enfants\", \n",
    "            30:'Piste cyclable', \n",
    "            31:'Attention à la neige et au gel',\n",
    "            32:\"Traversée d'animaux\", \n",
    "            33:'Fin de toutes les interdictions', \n",
    "            34:'Tourner obligatoirement à droite', \n",
    "            35:'Tourner obligatoire à gauche', \n",
    "            36:'Aller obligatoirement tout droit', \n",
    "            37:'Aller à droite ou tout droit', \n",
    "            38:'Aller à gauche ou tout droit', \n",
    "            39:'Restez à droite', \n",
    "            40:'restez à gauche', \n",
    "            41:'Rond-point', \n",
    "            42:'Fin de dépassement', \n",
    "            43:'Fin de dépassement pour les plus de 3,5 tonnes' }"
   ]
  },
  {
   "cell_type": "code",
   "execution_count": null,
   "metadata": {},
   "outputs": [],
   "source": [
    "# Initialisation de la fenêtre de l'application\n",
    "top=tk.Tk()\n",
    "top.geometry('800x600')\n",
    "top.title('Traffic sign classification')\n",
    "top.configure(background='#CDCDCD')\n",
    "label=Label(top,background='#CDCDCD', font=('arial',15,'bold'))\n",
    "sign_image = Label(top)\n"
   ]
  },
  {
   "cell_type": "code",
   "execution_count": null,
   "metadata": {},
   "outputs": [],
   "source": [
    "# Fonction de classification\n",
    "def classify(file_path):\n",
    "    global label_packed\n",
    "    image = Image.open(file_path)\n",
    "    image = image.resize((30,30))\n",
    "    image = numpy.expand_dims(image, axis=0)\n",
    "    image = numpy.array(image)\n",
    "    pred = model.predict_classes([image])[0]\n",
    "    sign = classes[pred+1]\n",
    "    print(sign)\n",
    "    label.configure(foreground='#011638', text=sign) \n"
   ]
  },
  {
   "cell_type": "code",
   "execution_count": null,
   "metadata": {},
   "outputs": [],
   "source": [
    "# Fonction pour le bouton afin de classifier le panneau(image)\n",
    "def show_classify_button(file_path):\n",
    "    classify_b=Button(top,text=\"Classify Image\",command=lambda: classify(file_path),padx=10,pady=5)\n",
    "    classify_b.configure(background='#364156', foreground='white',font=('arial',10,'bold'))\n",
    "    classify_b.place(relx=0.79,rely=0.46)"
   ]
  },
  {
   "cell_type": "code",
   "execution_count": null,
   "metadata": {},
   "outputs": [],
   "source": [
    "# Fonction de chargement d'image    \n",
    "def upload_image():\n",
    "    try:\n",
    "        file_path=filedialog.askopenfilename()\n",
    "        uploaded=Image.open(file_path)\n",
    "        uploaded.thumbnail(((top.winfo_width()/2.25),(top.winfo_height()/2.25)))\n",
    "        im=ImageTk.PhotoImage(uploaded)\n",
    "        sign_image.configure(image=im)\n",
    "        sign_image.image=im\n",
    "        label.configure(text='')\n",
    "        show_classify_button(file_path)\n",
    "    except:\n",
    "        pass\n"
   ]
  },
  {
   "cell_type": "code",
   "execution_count": null,
   "metadata": {},
   "outputs": [],
   "source": [
    "upload=Button(top,text=\"Upload an image\",command=upload_image,padx=10,pady=5)\n",
    "upload.configure(background='#364156', foreground='white',font=('arial',10,'bold'))\n",
    "upload.pack(side=BOTTOM,pady=50)\n",
    "sign_image.pack(side=BOTTOM,expand=True)\n",
    "label.pack(side=BOTTOM,expand=True)\n",
    "heading = Label(top, text=\"Know Your Traffic Sign\",pady=20, font=('arial',20,'bold'))\n",
    "heading.configure(background='#CDCDCD',foreground='#364156')\n",
    "heading.pack()\n",
    "top.mainloop()"
   ]
  },
  {
   "cell_type": "code",
   "execution_count": null,
   "metadata": {},
   "outputs": [],
   "source": []
  },
  {
   "cell_type": "code",
   "execution_count": null,
   "metadata": {},
   "outputs": [],
   "source": []
  }
 ],
 "metadata": {
  "kernelspec": {
   "display_name": "Python 3",
   "language": "python",
   "name": "python3"
  },
  "language_info": {
   "codemirror_mode": {
    "name": "ipython",
    "version": 3
   },
   "file_extension": ".py",
   "mimetype": "text/x-python",
   "name": "python",
   "nbconvert_exporter": "python",
   "pygments_lexer": "ipython3",
   "version": "3.8.5"
  }
 },
 "nbformat": 4,
 "nbformat_minor": 4
}
